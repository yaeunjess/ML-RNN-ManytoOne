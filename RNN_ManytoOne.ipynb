{
  "nbformat": 4,
  "nbformat_minor": 0,
  "metadata": {
    "colab": {
      "provenance": [],
      "collapsed_sections": [
        "H19AVKooE4jZ"
      ],
      "toc_visible": true,
      "include_colab_link": true
    },
    "kernelspec": {
      "name": "python3",
      "display_name": "Python 3"
    },
    "language_info": {
      "name": "python"
    }
  },
  "cells": [
    {
      "cell_type": "markdown",
      "metadata": {
        "id": "view-in-github",
        "colab_type": "text"
      },
      "source": [
        "<a href=\"https://colab.research.google.com/github/yaeunjess/RNN-ManytoOne/blob/main/RNN_ManytoOne.ipynb\" target=\"_parent\"><img src=\"https://colab.research.google.com/assets/colab-badge.svg\" alt=\"Open In Colab\"/></a>"
      ]
    },
    {
      "cell_type": "markdown",
      "source": [
        "# RNN-ManytoOne\n",
        "Many-to-One RNN example.\n",
        "\n",
        "Predict the next number of the current input.\n",
        "\n",
        "Reference link : https://yjjo.tistory.com/32"
      ],
      "metadata": {
        "id": "SFVYUuzuDRvx"
      }
    },
    {
      "cell_type": "markdown",
      "source": [
        "## Prepare the data"
      ],
      "metadata": {
        "id": "H19AVKooE4jZ"
      }
    },
    {
      "cell_type": "code",
      "execution_count": null,
      "metadata": {
        "id": "Y5sxrRo7DJoJ",
        "colab": {
          "base_uri": "https://localhost:8080/"
        },
        "outputId": "ca792781-e367-4818-ab82-dc4cfb27c52b"
      },
      "outputs": [
        {
          "output_type": "stream",
          "name": "stdout",
          "text": [
            "[ Shape ]\n",
            "x: (3, 3, 1), y: (3, 1)\n"
          ]
        }
      ],
      "source": [
        "import numpy as np\n",
        "import tensorflow as tf\n",
        "from tensorflow import keras\n",
        "\n",
        "## x & y\n",
        "x = np.array([[[1],[2],[3]],[[2],[3],[4]],[[3],[4],[5]]], dtype=np.float32)\n",
        "y = np.array([[4],[5],[6]], dtype=np.float32)\n",
        "\n",
        "## print\n",
        "print('[ Shape ]')\n",
        "print('x: {}, y: {}'.format(x.shape, y.shape))\n"
      ]
    },
    {
      "cell_type": "markdown",
      "source": [
        "## Build the model"
      ],
      "metadata": {
        "id": "58181XokE8Qn"
      }
    },
    {
      "cell_type": "code",
      "source": [
        "# Make Model\n",
        "layer_input  = keras.Input(shape=(3, 1), name='input')\n",
        "layer_rnn    = keras.layers.SimpleRNN(100, name='RNN')(layer_input)\n",
        "layer_output = keras.layers.Dense(1, name='output')(layer_rnn)\n",
        "\n",
        "model = keras.Model(layer_input, layer_output)\n",
        "print(model.summary())\n",
        "\n",
        "# Complier\n",
        "model.compile(loss = 'mse', optimizer='adam')\n",
        "model._name = 'many_to_one'\n"
      ],
      "metadata": {
        "colab": {
          "base_uri": "https://localhost:8080/"
        },
        "id": "sChiyuRRFBYZ",
        "outputId": "b50362b8-8b5d-4f5b-e408-848790b392da"
      },
      "execution_count": null,
      "outputs": [
        {
          "output_type": "stream",
          "name": "stdout",
          "text": [
            "Model: \"model_1\"\n",
            "_________________________________________________________________\n",
            " Layer (type)                Output Shape              Param #   \n",
            "=================================================================\n",
            " input (InputLayer)          [(None, 3, 1)]            0         \n",
            "                                                                 \n",
            " RNN (SimpleRNN)             (None, 100)               10200     \n",
            "                                                                 \n",
            " output (Dense)              (None, 1)                 101       \n",
            "                                                                 \n",
            "=================================================================\n",
            "Total params: 10301 (40.24 KB)\n",
            "Trainable params: 10301 (40.24 KB)\n",
            "Non-trainable params: 0 (0.00 Byte)\n",
            "_________________________________________________________________\n",
            "None\n"
          ]
        }
      ]
    },
    {
      "cell_type": "markdown",
      "source": [
        "## Train the model"
      ],
      "metadata": {
        "id": "xiUbSFQ9E-iV"
      }
    },
    {
      "cell_type": "code",
      "source": [
        "# Learn model\n",
        "model.fit(x, y, epochs=100, batch_size=1, verbose=0)\n",
        "\n",
        "print('[Result for Training Data]')\n",
        "print(model.predict(x))\n",
        "print('')\n",
        "print('[Result for Test Data]')\n",
        "print(model.predict(np.array([[[4],[5],[6]]], dtype=np.float32)))"
      ],
      "metadata": {
        "colab": {
          "base_uri": "https://localhost:8080/"
        },
        "id": "5yjmlpknFB1p",
        "outputId": "040e268c-62b6-47cd-a4e1-e891d6ab3ca6"
      },
      "execution_count": null,
      "outputs": [
        {
          "output_type": "stream",
          "name": "stdout",
          "text": [
            "[Result for Training Data]\n",
            "1/1 [==============================] - 0s 157ms/step\n",
            "[[3.8823984]\n",
            " [5.1677136]\n",
            " [5.8497   ]]\n",
            "\n",
            "[Result for Test Data]\n",
            "1/1 [==============================] - 0s 24ms/step\n",
            "[[6.1875134]]\n"
          ]
        }
      ]
    }
  ]
}